{
  "cells": [
    {
      "cell_type": "markdown",
      "metadata": {
        "id": "HHvFHtHTYvDv"
      },
      "source": [
        "# Modelo de predicción de Categoría\n",
        "\n",
        "Este modelo es entrenado usando los datos de tweets proveídos por Hey Banco, sobre los tweets que reciben en su cuenta de twitter, los cuales varían entre solicitudes de ayuda, hasta comentarios negativos.\n",
        "\n",
        "Este modelo busca categorizar futuros tweets en alguna de las siguientes categorías:\n",
        "\n",
        "- Agradecimiento\n",
        "- Solicitud de Apoyo\n",
        "- Comentario Positivo\n",
        "- Comentario Negativo\n",
        "- Caso Resuelto\n",
        "- Comentario Neutral\n",
        "- Promociones\n",
        "\n",
        "Si el comentario no cae dentro de alguno de estas categorías, se le aplicará la categoría de \"Otros\".\n",
        "\n",
        "**Este modelo categoriza correctamente alrededor del 67% de los tweets**"
      ]
    },
    {
      "cell_type": "code",
      "execution_count": null,
      "metadata": {
        "id": "G0tA6b4W7Hgv"
      },
      "outputs": [],
      "source": [
        "%pip install numpy scipy nlpaug\n",
        "%pip install -r requirements.txt"
      ]
    },
    {
      "cell_type": "code",
      "execution_count": null,
      "metadata": {
        "id": "chpZqSJn6g6y"
      },
      "outputs": [],
      "source": [
        "import pandas as pd\n",
        "from sklearn.model_selection import train_test_split\n",
        "from sklearn.feature_extraction.text import TfidfVectorizer\n",
        "from sklearn.svm import SVC\n",
        "from sklearn.metrics import accuracy_score"
      ]
    },
    {
      "cell_type": "code",
      "execution_count": null,
      "metadata": {
        "colab": {
          "base_uri": "https://localhost:8080/",
          "height": 206
        },
        "id": "3Oib5-T69ufS",
        "outputId": "6b0b649f-b8ed-400a-fbcc-d4bc832095a5"
      },
      "outputs": [],
      "source": [
        "# Cargar los datos de las columnas de \"tweet\" y \"Categoria 1\" para entrenar el modelo\n",
        "data = pd.read_csv('data.csv', usecols=[\"tweet\", \"Categoria 1\"])\n",
        "\n",
        "# Eliminamos los registros sin tweets o sin categorías\n",
        "data.dropna(subset=['tweet'], inplace=True)\n",
        "data = data[(data['Categoria 1'] != '?') & (data['Categoria 1'].notna()) & (data['Categoria 1'] != 'Otros')]\n",
        "\n",
        "data.head()"
      ]
    },
    {
      "cell_type": "code",
      "execution_count": null,
      "metadata": {
        "colab": {
          "base_uri": "https://localhost:8080/"
        },
        "id": "5Ic3ccKwEcMa",
        "outputId": "0cbd5bba-a94b-4860-f6d2-ea7e505fc180"
      },
      "outputs": [],
      "source": [
        "# Partir los datos para el entrenamiento y para probar (80% para entrenamiento, 20% para probar)\n",
        "X_train, X_test, y_train, y_test = train_test_split(data['tweet'], data['Categoria 1'], test_size=0.2, random_state=42)\n",
        "\n",
        "# Vectorizar los tweets usando TF-IDF\n",
        "vectorizer = TfidfVectorizer()\n",
        "X_train_vectorized = vectorizer.fit_transform(X_train)\n",
        "X_test_vectorized = vectorizer.transform(X_test)\n",
        "\n",
        "# Entrenamiento del modelo SVC\n",
        "svm_classifier = SVC(kernel='linear')\n",
        "svm_classifier.fit(X_train_vectorized, y_train)\n",
        "\n",
        "# Predecir las categorías para los datos de prueba\n",
        "predictions = svm_classifier.predict(X_test_vectorized)\n",
        "\n",
        "# Evaluar la eficacia del modelo\n",
        "accuracy = accuracy_score(y_test, predictions)\n",
        "print('Accuracy:', accuracy)"
      ]
    },
    {
      "cell_type": "markdown",
      "metadata": {
        "id": "Y2nBVycLbOYW"
      },
      "source": [
        "Ya que se tiene el modelo entrenado, se puede cargar un archivo .csv que contenga la columna \"tweet\".\n",
        "\n",
        "El código leerá el archivo y usando el modelo creado anteriormente, agregará una columna nueva llamada \"predicted_category\" con las predicciones de la categoría."
      ]
    },
    {
      "cell_type": "code",
      "execution_count": null,
      "metadata": {
        "colab": {
          "base_uri": "https://localhost:8080/"
        },
        "id": "sQ5oLRYIWCsA",
        "outputId": "7e9d6acf-e813-4ed0-cccf-fa3fe9c1c5f0"
      },
      "outputs": [],
      "source": [
        "# Cargar el archivo a una DataFrame\n",
        "input = pd.read_csv('tweets.csv')\n",
        "\n",
        "# Vectorizar los tweets nuevos\n",
        "X_data_vectorized = vectorizer.transform(input['tweet'])\n",
        "\n",
        "# Predecir las categorias de los tweets\n",
        "predicted_categories = svm_classifier.predict(X_data_vectorized)\n",
        "\n",
        "# Agregar las predicciones al DataFrame\n",
        "input['predicted_category'] = predicted_categories\n",
        "\n",
        "# Exportar el DataFrame a un archivo .csv\n",
        "input.to_csv('tweets_with_predictions.csv', index=False)\n"
      ]
    }
  ],
  "metadata": {
    "colab": {
      "provenance": []
    },
    "kernelspec": {
      "display_name": "Python 3",
      "name": "python3"
    },
    "language_info": {
      "codemirror_mode": {
        "name": "ipython",
        "version": 3
      },
      "file_extension": ".py",
      "mimetype": "text/x-python",
      "name": "python",
      "nbconvert_exporter": "python",
      "pygments_lexer": "ipython3",
      "version": "3.10.11"
    }
  },
  "nbformat": 4,
  "nbformat_minor": 0
}
